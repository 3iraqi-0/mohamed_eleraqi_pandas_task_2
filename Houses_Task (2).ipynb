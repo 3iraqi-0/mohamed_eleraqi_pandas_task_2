{
 "cells": [
  {
   "cell_type": "markdown",
   "id": "d1865ec1",
   "metadata": {
    "id": "d1865ec1"
   },
   "source": [
    "# [Dataset-houses-in-london/kaggle](https://www.kaggle.com/datasets/oktayrdeki/houses-in-london)"
   ]
  },
  {
   "cell_type": "markdown",
   "id": "122be2df",
   "metadata": {
    "ExecuteTime": {
     "end_time": "2025-01-29T11:08:07.849883Z",
     "start_time": "2025-01-29T11:08:07.842046Z"
    },
    "id": "122be2df"
   },
   "source": [
    "## Q1\n",
    "*  Load the Data\n",
    "*  Display the First 5 Entries\n",
    "*  Display the Last 5 Entries\n",
    "*  View Dataset Information\n",
    "*  Generate Descriptive Statistics (Numeric and Categorical Data)"
   ]
  },
  {
   "cell_type": "code",
   "execution_count": 3,
   "id": "6ee55d04",
   "metadata": {
    "id": "6ee55d04"
   },
   "outputs": [],
   "source": [
    "import pandas as pd"
   ]
  },
  {
   "cell_type": "code",
   "execution_count": 4,
   "id": "125f024a",
   "metadata": {
    "id": "125f024a"
   },
   "outputs": [],
   "source": [
    "df=pd.read_csv(\"./data/london_houses.csv\")"
   ]
  },
  {
   "cell_type": "code",
   "execution_count": 5,
   "id": "ae8f6891",
   "metadata": {
    "id": "ae8f6891"
   },
   "outputs": [
    {
     "data": {
      "text/html": [
       "<div>\n",
       "<style scoped>\n",
       "    .dataframe tbody tr th:only-of-type {\n",
       "        vertical-align: middle;\n",
       "    }\n",
       "\n",
       "    .dataframe tbody tr th {\n",
       "        vertical-align: top;\n",
       "    }\n",
       "\n",
       "    .dataframe thead th {\n",
       "        text-align: right;\n",
       "    }\n",
       "</style>\n",
       "<table border=\"1\" class=\"dataframe\">\n",
       "  <thead>\n",
       "    <tr style=\"text-align: right;\">\n",
       "      <th></th>\n",
       "      <th>Address</th>\n",
       "      <th>Neighborhood</th>\n",
       "      <th>Bedrooms</th>\n",
       "      <th>Bathrooms</th>\n",
       "      <th>Square Meters</th>\n",
       "      <th>Building Age</th>\n",
       "      <th>Garden</th>\n",
       "      <th>Garage</th>\n",
       "      <th>Floors</th>\n",
       "      <th>Property Type</th>\n",
       "      <th>Heating Type</th>\n",
       "      <th>Balcony</th>\n",
       "      <th>Interior Style</th>\n",
       "      <th>View</th>\n",
       "      <th>Materials</th>\n",
       "      <th>Building Status</th>\n",
       "      <th>Price (£)</th>\n",
       "    </tr>\n",
       "  </thead>\n",
       "  <tbody>\n",
       "    <tr>\n",
       "      <th>0</th>\n",
       "      <td>78 Regent Street</td>\n",
       "      <td>Notting Hill</td>\n",
       "      <td>2</td>\n",
       "      <td>3</td>\n",
       "      <td>179</td>\n",
       "      <td>72</td>\n",
       "      <td>No</td>\n",
       "      <td>No</td>\n",
       "      <td>3</td>\n",
       "      <td>Semi-Detached</td>\n",
       "      <td>Electric Heating</td>\n",
       "      <td>High-level Balcony</td>\n",
       "      <td>Industrial</td>\n",
       "      <td>Garden</td>\n",
       "      <td>Marble</td>\n",
       "      <td>Renovated</td>\n",
       "      <td>2291200</td>\n",
       "    </tr>\n",
       "    <tr>\n",
       "      <th>1</th>\n",
       "      <td>198 Oxford Street</td>\n",
       "      <td>Westminster</td>\n",
       "      <td>2</td>\n",
       "      <td>1</td>\n",
       "      <td>123</td>\n",
       "      <td>34</td>\n",
       "      <td>Yes</td>\n",
       "      <td>No</td>\n",
       "      <td>1</td>\n",
       "      <td>Apartment</td>\n",
       "      <td>Central Heating</td>\n",
       "      <td>High-level Balcony</td>\n",
       "      <td>Industrial</td>\n",
       "      <td>City</td>\n",
       "      <td>Laminate Flooring</td>\n",
       "      <td>Old</td>\n",
       "      <td>1476000</td>\n",
       "    </tr>\n",
       "    <tr>\n",
       "      <th>2</th>\n",
       "      <td>18 Regent Street</td>\n",
       "      <td>Soho</td>\n",
       "      <td>5</td>\n",
       "      <td>3</td>\n",
       "      <td>168</td>\n",
       "      <td>38</td>\n",
       "      <td>No</td>\n",
       "      <td>Yes</td>\n",
       "      <td>3</td>\n",
       "      <td>Semi-Detached</td>\n",
       "      <td>Central Heating</td>\n",
       "      <td>No Balcony</td>\n",
       "      <td>Industrial</td>\n",
       "      <td>Street</td>\n",
       "      <td>Wood</td>\n",
       "      <td>Renovated</td>\n",
       "      <td>1881600</td>\n",
       "    </tr>\n",
       "    <tr>\n",
       "      <th>3</th>\n",
       "      <td>39 Piccadilly Circus</td>\n",
       "      <td>Islington</td>\n",
       "      <td>5</td>\n",
       "      <td>1</td>\n",
       "      <td>237</td>\n",
       "      <td>53</td>\n",
       "      <td>Yes</td>\n",
       "      <td>Yes</td>\n",
       "      <td>1</td>\n",
       "      <td>Apartment</td>\n",
       "      <td>Underfloor Heating</td>\n",
       "      <td>No Balcony</td>\n",
       "      <td>Classic</td>\n",
       "      <td>Park</td>\n",
       "      <td>Granite</td>\n",
       "      <td>Renovated</td>\n",
       "      <td>1896000</td>\n",
       "    </tr>\n",
       "    <tr>\n",
       "      <th>4</th>\n",
       "      <td>116 Fleet Street</td>\n",
       "      <td>Marylebone</td>\n",
       "      <td>4</td>\n",
       "      <td>1</td>\n",
       "      <td>127</td>\n",
       "      <td>23</td>\n",
       "      <td>No</td>\n",
       "      <td>Yes</td>\n",
       "      <td>2</td>\n",
       "      <td>Semi-Detached</td>\n",
       "      <td>Central Heating</td>\n",
       "      <td>No Balcony</td>\n",
       "      <td>Modern</td>\n",
       "      <td>Park</td>\n",
       "      <td>Wood</td>\n",
       "      <td>Old</td>\n",
       "      <td>1524000</td>\n",
       "    </tr>\n",
       "  </tbody>\n",
       "</table>\n",
       "</div>"
      ],
      "text/plain": [
       "                Address  Neighborhood  Bedrooms  Bathrooms  Square Meters  \\\n",
       "0      78 Regent Street  Notting Hill         2          3            179   \n",
       "1     198 Oxford Street   Westminster         2          1            123   \n",
       "2      18 Regent Street          Soho         5          3            168   \n",
       "3  39 Piccadilly Circus     Islington         5          1            237   \n",
       "4      116 Fleet Street    Marylebone         4          1            127   \n",
       "\n",
       "   Building Age Garden Garage  Floors  Property Type        Heating Type  \\\n",
       "0            72     No     No       3  Semi-Detached    Electric Heating   \n",
       "1            34    Yes     No       1      Apartment     Central Heating   \n",
       "2            38     No    Yes       3  Semi-Detached     Central Heating   \n",
       "3            53    Yes    Yes       1      Apartment  Underfloor Heating   \n",
       "4            23     No    Yes       2  Semi-Detached     Central Heating   \n",
       "\n",
       "              Balcony Interior Style    View          Materials  \\\n",
       "0  High-level Balcony     Industrial  Garden             Marble   \n",
       "1  High-level Balcony     Industrial    City  Laminate Flooring   \n",
       "2          No Balcony     Industrial  Street               Wood   \n",
       "3          No Balcony        Classic    Park            Granite   \n",
       "4          No Balcony         Modern    Park               Wood   \n",
       "\n",
       "  Building Status  Price (£)  \n",
       "0       Renovated    2291200  \n",
       "1             Old    1476000  \n",
       "2       Renovated    1881600  \n",
       "3       Renovated    1896000  \n",
       "4             Old    1524000  "
      ]
     },
     "execution_count": 5,
     "metadata": {},
     "output_type": "execute_result"
    }
   ],
   "source": [
    "df.head()"
   ]
  },
  {
   "cell_type": "code",
   "execution_count": 6,
   "id": "5c7ad68d",
   "metadata": {
    "id": "5c7ad68d"
   },
   "outputs": [
    {
     "data": {
      "text/html": [
       "<div>\n",
       "<style scoped>\n",
       "    .dataframe tbody tr th:only-of-type {\n",
       "        vertical-align: middle;\n",
       "    }\n",
       "\n",
       "    .dataframe tbody tr th {\n",
       "        vertical-align: top;\n",
       "    }\n",
       "\n",
       "    .dataframe thead th {\n",
       "        text-align: right;\n",
       "    }\n",
       "</style>\n",
       "<table border=\"1\" class=\"dataframe\">\n",
       "  <thead>\n",
       "    <tr style=\"text-align: right;\">\n",
       "      <th></th>\n",
       "      <th>Address</th>\n",
       "      <th>Neighborhood</th>\n",
       "      <th>Bedrooms</th>\n",
       "      <th>Bathrooms</th>\n",
       "      <th>Square Meters</th>\n",
       "      <th>Building Age</th>\n",
       "      <th>Garden</th>\n",
       "      <th>Garage</th>\n",
       "      <th>Floors</th>\n",
       "      <th>Property Type</th>\n",
       "      <th>Heating Type</th>\n",
       "      <th>Balcony</th>\n",
       "      <th>Interior Style</th>\n",
       "      <th>View</th>\n",
       "      <th>Materials</th>\n",
       "      <th>Building Status</th>\n",
       "      <th>Price (£)</th>\n",
       "    </tr>\n",
       "  </thead>\n",
       "  <tbody>\n",
       "    <tr>\n",
       "      <th>995</th>\n",
       "      <td>44 Camden High Street</td>\n",
       "      <td>Westminster</td>\n",
       "      <td>1</td>\n",
       "      <td>3</td>\n",
       "      <td>81</td>\n",
       "      <td>4</td>\n",
       "      <td>Yes</td>\n",
       "      <td>Yes</td>\n",
       "      <td>2</td>\n",
       "      <td>Semi-Detached</td>\n",
       "      <td>Central Heating</td>\n",
       "      <td>Low-level Balcony</td>\n",
       "      <td>Modern</td>\n",
       "      <td>Street</td>\n",
       "      <td>Laminate Flooring</td>\n",
       "      <td>Renovated</td>\n",
       "      <td>1166400</td>\n",
       "    </tr>\n",
       "    <tr>\n",
       "      <th>996</th>\n",
       "      <td>165 Park Lane</td>\n",
       "      <td>Camden</td>\n",
       "      <td>1</td>\n",
       "      <td>1</td>\n",
       "      <td>65</td>\n",
       "      <td>51</td>\n",
       "      <td>No</td>\n",
       "      <td>No</td>\n",
       "      <td>1</td>\n",
       "      <td>Apartment</td>\n",
       "      <td>Underfloor Heating</td>\n",
       "      <td>No Balcony</td>\n",
       "      <td>Industrial</td>\n",
       "      <td>Garden</td>\n",
       "      <td>Wood</td>\n",
       "      <td>Old</td>\n",
       "      <td>563333</td>\n",
       "    </tr>\n",
       "    <tr>\n",
       "      <th>997</th>\n",
       "      <td>99 Camden High Street</td>\n",
       "      <td>Camden</td>\n",
       "      <td>4</td>\n",
       "      <td>1</td>\n",
       "      <td>191</td>\n",
       "      <td>27</td>\n",
       "      <td>No</td>\n",
       "      <td>Yes</td>\n",
       "      <td>2</td>\n",
       "      <td>Semi-Detached</td>\n",
       "      <td>Central Heating</td>\n",
       "      <td>Low-level Balcony</td>\n",
       "      <td>Minimalist</td>\n",
       "      <td>Park</td>\n",
       "      <td>Laminate Flooring</td>\n",
       "      <td>Old</td>\n",
       "      <td>1986399</td>\n",
       "    </tr>\n",
       "    <tr>\n",
       "      <th>998</th>\n",
       "      <td>155 Park Lane</td>\n",
       "      <td>Camden</td>\n",
       "      <td>5</td>\n",
       "      <td>2</td>\n",
       "      <td>131</td>\n",
       "      <td>3</td>\n",
       "      <td>Yes</td>\n",
       "      <td>No</td>\n",
       "      <td>2</td>\n",
       "      <td>Detached House</td>\n",
       "      <td>Underfloor Heating</td>\n",
       "      <td>High-level Balcony</td>\n",
       "      <td>Modern</td>\n",
       "      <td>Park</td>\n",
       "      <td>Laminate Flooring</td>\n",
       "      <td>Renovated</td>\n",
       "      <td>1703000</td>\n",
       "    </tr>\n",
       "    <tr>\n",
       "      <th>999</th>\n",
       "      <td>145 Baker Street</td>\n",
       "      <td>Kensington</td>\n",
       "      <td>4</td>\n",
       "      <td>2</td>\n",
       "      <td>185</td>\n",
       "      <td>53</td>\n",
       "      <td>No</td>\n",
       "      <td>No</td>\n",
       "      <td>1</td>\n",
       "      <td>Apartment</td>\n",
       "      <td>Electric Heating</td>\n",
       "      <td>No Balcony</td>\n",
       "      <td>Modern</td>\n",
       "      <td>Street</td>\n",
       "      <td>Wood</td>\n",
       "      <td>Old</td>\n",
       "      <td>2343333</td>\n",
       "    </tr>\n",
       "  </tbody>\n",
       "</table>\n",
       "</div>"
      ],
      "text/plain": [
       "                   Address Neighborhood  Bedrooms  Bathrooms  Square Meters  \\\n",
       "995  44 Camden High Street  Westminster         1          3             81   \n",
       "996          165 Park Lane       Camden         1          1             65   \n",
       "997  99 Camden High Street       Camden         4          1            191   \n",
       "998          155 Park Lane       Camden         5          2            131   \n",
       "999       145 Baker Street   Kensington         4          2            185   \n",
       "\n",
       "     Building Age Garden Garage  Floors   Property Type        Heating Type  \\\n",
       "995             4    Yes    Yes       2   Semi-Detached     Central Heating   \n",
       "996            51     No     No       1       Apartment  Underfloor Heating   \n",
       "997            27     No    Yes       2   Semi-Detached     Central Heating   \n",
       "998             3    Yes     No       2  Detached House  Underfloor Heating   \n",
       "999            53     No     No       1       Apartment    Electric Heating   \n",
       "\n",
       "                Balcony Interior Style    View          Materials  \\\n",
       "995   Low-level Balcony         Modern  Street  Laminate Flooring   \n",
       "996          No Balcony     Industrial  Garden               Wood   \n",
       "997   Low-level Balcony     Minimalist    Park  Laminate Flooring   \n",
       "998  High-level Balcony         Modern    Park  Laminate Flooring   \n",
       "999          No Balcony         Modern  Street               Wood   \n",
       "\n",
       "    Building Status  Price (£)  \n",
       "995       Renovated    1166400  \n",
       "996             Old     563333  \n",
       "997             Old    1986399  \n",
       "998       Renovated    1703000  \n",
       "999             Old    2343333  "
      ]
     },
     "execution_count": 6,
     "metadata": {},
     "output_type": "execute_result"
    }
   ],
   "source": [
    "df.tail()"
   ]
  },
  {
   "cell_type": "code",
   "execution_count": 7,
   "id": "b5fd34be",
   "metadata": {
    "id": "b5fd34be"
   },
   "outputs": [
    {
     "name": "stdout",
     "output_type": "stream",
     "text": [
      "<class 'pandas.core.frame.DataFrame'>\n",
      "RangeIndex: 1000 entries, 0 to 999\n",
      "Data columns (total 17 columns):\n",
      " #   Column           Non-Null Count  Dtype \n",
      "---  ------           --------------  ----- \n",
      " 0   Address          1000 non-null   object\n",
      " 1   Neighborhood     1000 non-null   object\n",
      " 2   Bedrooms         1000 non-null   int64 \n",
      " 3   Bathrooms        1000 non-null   int64 \n",
      " 4   Square Meters    1000 non-null   int64 \n",
      " 5   Building Age     1000 non-null   int64 \n",
      " 6   Garden           1000 non-null   object\n",
      " 7   Garage           1000 non-null   object\n",
      " 8   Floors           1000 non-null   int64 \n",
      " 9   Property Type    1000 non-null   object\n",
      " 10  Heating Type     1000 non-null   object\n",
      " 11  Balcony          1000 non-null   object\n",
      " 12  Interior Style   1000 non-null   object\n",
      " 13  View             1000 non-null   object\n",
      " 14  Materials        1000 non-null   object\n",
      " 15  Building Status  1000 non-null   object\n",
      " 16  Price (£)        1000 non-null   int64 \n",
      "dtypes: int64(6), object(11)\n",
      "memory usage: 132.9+ KB\n"
     ]
    }
   ],
   "source": [
    "df.info()"
   ]
  },
  {
   "cell_type": "code",
   "execution_count": 8,
   "id": "2674f7b5",
   "metadata": {
    "id": "2674f7b5"
   },
   "outputs": [
    {
     "data": {
      "text/html": [
       "<div>\n",
       "<style scoped>\n",
       "    .dataframe tbody tr th:only-of-type {\n",
       "        vertical-align: middle;\n",
       "    }\n",
       "\n",
       "    .dataframe tbody tr th {\n",
       "        vertical-align: top;\n",
       "    }\n",
       "\n",
       "    .dataframe thead th {\n",
       "        text-align: right;\n",
       "    }\n",
       "</style>\n",
       "<table border=\"1\" class=\"dataframe\">\n",
       "  <thead>\n",
       "    <tr style=\"text-align: right;\">\n",
       "      <th></th>\n",
       "      <th>Bedrooms</th>\n",
       "      <th>Bathrooms</th>\n",
       "      <th>Square Meters</th>\n",
       "      <th>Building Age</th>\n",
       "      <th>Floors</th>\n",
       "      <th>Price (£)</th>\n",
       "    </tr>\n",
       "  </thead>\n",
       "  <tbody>\n",
       "    <tr>\n",
       "      <th>count</th>\n",
       "      <td>1000.000000</td>\n",
       "      <td>1000.000000</td>\n",
       "      <td>1000.0000</td>\n",
       "      <td>1000.00000</td>\n",
       "      <td>1000.000000</td>\n",
       "      <td>1.000000e+03</td>\n",
       "    </tr>\n",
       "    <tr>\n",
       "      <th>mean</th>\n",
       "      <td>3.013000</td>\n",
       "      <td>2.003000</td>\n",
       "      <td>149.6270</td>\n",
       "      <td>49.96500</td>\n",
       "      <td>1.991000</td>\n",
       "      <td>1.840807e+06</td>\n",
       "    </tr>\n",
       "    <tr>\n",
       "      <th>std</th>\n",
       "      <td>1.393834</td>\n",
       "      <td>0.808483</td>\n",
       "      <td>58.0562</td>\n",
       "      <td>29.07086</td>\n",
       "      <td>0.821946</td>\n",
       "      <td>8.793484e+05</td>\n",
       "    </tr>\n",
       "    <tr>\n",
       "      <th>min</th>\n",
       "      <td>1.000000</td>\n",
       "      <td>1.000000</td>\n",
       "      <td>50.0000</td>\n",
       "      <td>1.00000</td>\n",
       "      <td>1.000000</td>\n",
       "      <td>3.866660e+05</td>\n",
       "    </tr>\n",
       "    <tr>\n",
       "      <th>25%</th>\n",
       "      <td>2.000000</td>\n",
       "      <td>1.000000</td>\n",
       "      <td>99.0000</td>\n",
       "      <td>24.00000</td>\n",
       "      <td>1.000000</td>\n",
       "      <td>1.161400e+06</td>\n",
       "    </tr>\n",
       "    <tr>\n",
       "      <th>50%</th>\n",
       "      <td>3.000000</td>\n",
       "      <td>2.000000</td>\n",
       "      <td>148.0000</td>\n",
       "      <td>50.00000</td>\n",
       "      <td>2.000000</td>\n",
       "      <td>1.721999e+06</td>\n",
       "    </tr>\n",
       "    <tr>\n",
       "      <th>75%</th>\n",
       "      <td>4.000000</td>\n",
       "      <td>3.000000</td>\n",
       "      <td>201.0000</td>\n",
       "      <td>76.00000</td>\n",
       "      <td>3.000000</td>\n",
       "      <td>2.390500e+06</td>\n",
       "    </tr>\n",
       "    <tr>\n",
       "      <th>max</th>\n",
       "      <td>5.000000</td>\n",
       "      <td>3.000000</td>\n",
       "      <td>249.0000</td>\n",
       "      <td>99.00000</td>\n",
       "      <td>3.000000</td>\n",
       "      <td>4.980000e+06</td>\n",
       "    </tr>\n",
       "  </tbody>\n",
       "</table>\n",
       "</div>"
      ],
      "text/plain": [
       "          Bedrooms    Bathrooms  Square Meters  Building Age       Floors  \\\n",
       "count  1000.000000  1000.000000      1000.0000    1000.00000  1000.000000   \n",
       "mean      3.013000     2.003000       149.6270      49.96500     1.991000   \n",
       "std       1.393834     0.808483        58.0562      29.07086     0.821946   \n",
       "min       1.000000     1.000000        50.0000       1.00000     1.000000   \n",
       "25%       2.000000     1.000000        99.0000      24.00000     1.000000   \n",
       "50%       3.000000     2.000000       148.0000      50.00000     2.000000   \n",
       "75%       4.000000     3.000000       201.0000      76.00000     3.000000   \n",
       "max       5.000000     3.000000       249.0000      99.00000     3.000000   \n",
       "\n",
       "          Price (£)  \n",
       "count  1.000000e+03  \n",
       "mean   1.840807e+06  \n",
       "std    8.793484e+05  \n",
       "min    3.866660e+05  \n",
       "25%    1.161400e+06  \n",
       "50%    1.721999e+06  \n",
       "75%    2.390500e+06  \n",
       "max    4.980000e+06  "
      ]
     },
     "execution_count": 8,
     "metadata": {},
     "output_type": "execute_result"
    }
   ],
   "source": [
    "df.describe()"
   ]
  },
  {
   "cell_type": "code",
   "execution_count": 9,
   "id": "379aad82",
   "metadata": {
    "id": "379aad82"
   },
   "outputs": [
    {
     "data": {
      "text/html": [
       "<div>\n",
       "<style scoped>\n",
       "    .dataframe tbody tr th:only-of-type {\n",
       "        vertical-align: middle;\n",
       "    }\n",
       "\n",
       "    .dataframe tbody tr th {\n",
       "        vertical-align: top;\n",
       "    }\n",
       "\n",
       "    .dataframe thead th {\n",
       "        text-align: right;\n",
       "    }\n",
       "</style>\n",
       "<table border=\"1\" class=\"dataframe\">\n",
       "  <thead>\n",
       "    <tr style=\"text-align: right;\">\n",
       "      <th></th>\n",
       "      <th>Address</th>\n",
       "      <th>Neighborhood</th>\n",
       "      <th>Garden</th>\n",
       "      <th>Garage</th>\n",
       "      <th>Property Type</th>\n",
       "      <th>Heating Type</th>\n",
       "      <th>Balcony</th>\n",
       "      <th>Interior Style</th>\n",
       "      <th>View</th>\n",
       "      <th>Materials</th>\n",
       "      <th>Building Status</th>\n",
       "    </tr>\n",
       "  </thead>\n",
       "  <tbody>\n",
       "    <tr>\n",
       "      <th>count</th>\n",
       "      <td>1000</td>\n",
       "      <td>1000</td>\n",
       "      <td>1000</td>\n",
       "      <td>1000</td>\n",
       "      <td>1000</td>\n",
       "      <td>1000</td>\n",
       "      <td>1000</td>\n",
       "      <td>1000</td>\n",
       "      <td>1000</td>\n",
       "      <td>1000</td>\n",
       "      <td>1000</td>\n",
       "    </tr>\n",
       "    <tr>\n",
       "      <th>unique</th>\n",
       "      <td>770</td>\n",
       "      <td>10</td>\n",
       "      <td>2</td>\n",
       "      <td>2</td>\n",
       "      <td>3</td>\n",
       "      <td>4</td>\n",
       "      <td>3</td>\n",
       "      <td>4</td>\n",
       "      <td>5</td>\n",
       "      <td>4</td>\n",
       "      <td>3</td>\n",
       "    </tr>\n",
       "    <tr>\n",
       "      <th>top</th>\n",
       "      <td>96 King's Road</td>\n",
       "      <td>Kensington</td>\n",
       "      <td>Yes</td>\n",
       "      <td>Yes</td>\n",
       "      <td>Detached House</td>\n",
       "      <td>Electric Heating</td>\n",
       "      <td>No Balcony</td>\n",
       "      <td>Classic</td>\n",
       "      <td>Sea</td>\n",
       "      <td>Wood</td>\n",
       "      <td>Renovated</td>\n",
       "    </tr>\n",
       "    <tr>\n",
       "      <th>freq</th>\n",
       "      <td>4</td>\n",
       "      <td>114</td>\n",
       "      <td>512</td>\n",
       "      <td>501</td>\n",
       "      <td>349</td>\n",
       "      <td>266</td>\n",
       "      <td>340</td>\n",
       "      <td>263</td>\n",
       "      <td>210</td>\n",
       "      <td>264</td>\n",
       "      <td>341</td>\n",
       "    </tr>\n",
       "  </tbody>\n",
       "</table>\n",
       "</div>"
      ],
      "text/plain": [
       "               Address Neighborhood Garden Garage   Property Type  \\\n",
       "count             1000         1000   1000   1000            1000   \n",
       "unique             770           10      2      2               3   \n",
       "top     96 King's Road   Kensington    Yes    Yes  Detached House   \n",
       "freq                 4          114    512    501             349   \n",
       "\n",
       "            Heating Type     Balcony Interior Style  View Materials  \\\n",
       "count               1000        1000           1000  1000      1000   \n",
       "unique                 4           3              4     5         4   \n",
       "top     Electric Heating  No Balcony        Classic   Sea      Wood   \n",
       "freq                 266         340            263   210       264   \n",
       "\n",
       "       Building Status  \n",
       "count             1000  \n",
       "unique               3  \n",
       "top          Renovated  \n",
       "freq               341  "
      ]
     },
     "execution_count": 9,
     "metadata": {},
     "output_type": "execute_result"
    }
   ],
   "source": [
    "df.describe(include=\"O\")"
   ]
  },
  {
   "cell_type": "markdown",
   "id": "1d6a794a",
   "metadata": {
    "id": "1d6a794a"
   },
   "source": [
    "## Q2\n",
    "*  Check and Resolve Duplicate Entries\n",
    "*  Check and Handle Missing Values"
   ]
  },
  {
   "cell_type": "code",
   "execution_count": 37,
   "id": "737fa1ce",
   "metadata": {
    "id": "737fa1ce"
   },
   "outputs": [
    {
     "data": {
      "text/plain": [
       "Address            0\n",
       "Neighborhood       0\n",
       "Bedrooms           0\n",
       "Bathrooms          0\n",
       "Square Meters      0\n",
       "Building Age       0\n",
       "Garden             0\n",
       "Garage             0\n",
       "Floors             0\n",
       "Property Type      0\n",
       "Heating Type       0\n",
       "Balcony            0\n",
       "Interior Style     0\n",
       "View               0\n",
       "Materials          0\n",
       "Building Status    0\n",
       "Price (£)          0\n",
       "dtype: int64"
      ]
     },
     "execution_count": 37,
     "metadata": {},
     "output_type": "execute_result"
    }
   ],
   "source": [
    "df.isna().sum()"
   ]
  },
  {
   "cell_type": "code",
   "execution_count": 41,
   "id": "95336e1b",
   "metadata": {},
   "outputs": [
    {
     "data": {
      "text/plain": [
       "0"
      ]
     },
     "execution_count": 41,
     "metadata": {},
     "output_type": "execute_result"
    }
   ],
   "source": [
    "df.duplicated().sum()"
   ]
  },
  {
   "cell_type": "markdown",
   "id": "19ff32cc",
   "metadata": {
    "id": "19ff32cc"
   },
   "source": [
    "## Q3\n",
    "* Using aggregate function to calculate (Max, Min, Mean) of sales column"
   ]
  },
  {
   "cell_type": "code",
   "execution_count": null,
   "id": "c8430a94",
   "metadata": {
    "id": "c8430a94"
   },
   "outputs": [],
   "source": []
  },
  {
   "cell_type": "code",
   "execution_count": null,
   "id": "6e6b0575",
   "metadata": {
    "id": "6e6b0575"
   },
   "outputs": [],
   "source": []
  },
  {
   "cell_type": "code",
   "execution_count": null,
   "id": "44fc8084",
   "metadata": {
    "id": "44fc8084"
   },
   "outputs": [],
   "source": []
  },
  {
   "cell_type": "code",
   "execution_count": null,
   "id": "bbf54754",
   "metadata": {
    "id": "bbf54754"
   },
   "outputs": [],
   "source": []
  },
  {
   "cell_type": "markdown",
   "id": "a5aed18b",
   "metadata": {
    "id": "a5aed18b"
   },
   "source": [
    "## Q4\n",
    "* Generate a column that specifies the price per square meter (.2F).\n",
    "* Generate a column that specifies the total rooms in house"
   ]
  },
  {
   "cell_type": "code",
   "execution_count": null,
   "id": "2aa23f57",
   "metadata": {
    "id": "2aa23f57"
   },
   "outputs": [],
   "source": []
  },
  {
   "cell_type": "code",
   "execution_count": null,
   "id": "f708b56b",
   "metadata": {
    "id": "f708b56b"
   },
   "outputs": [],
   "source": []
  },
  {
   "cell_type": "code",
   "execution_count": null,
   "id": "931d159b",
   "metadata": {
    "id": "931d159b"
   },
   "outputs": [],
   "source": []
  },
  {
   "cell_type": "code",
   "execution_count": null,
   "id": "0b52f5d3",
   "metadata": {
    "id": "0b52f5d3"
   },
   "outputs": [],
   "source": []
  },
  {
   "cell_type": "markdown",
   "id": "80780bae",
   "metadata": {
    "id": "80780bae"
   },
   "source": [
    "## Q5\n",
    "*  What is the oldest house and price of it ?\n",
    "*  What is the newest house and price of it ?\n",
    "> note(If there is more than one, calculate their mean.)"
   ]
  },
  {
   "cell_type": "code",
   "execution_count": null,
   "id": "fc4cff80",
   "metadata": {
    "id": "fc4cff80"
   },
   "outputs": [],
   "source": []
  },
  {
   "cell_type": "code",
   "execution_count": null,
   "id": "6b93c224",
   "metadata": {
    "id": "6b93c224"
   },
   "outputs": [],
   "source": []
  },
  {
   "cell_type": "code",
   "execution_count": null,
   "id": "00f0011a",
   "metadata": {
    "id": "00f0011a"
   },
   "outputs": [],
   "source": []
  },
  {
   "cell_type": "code",
   "execution_count": null,
   "id": "5b67a23a",
   "metadata": {
    "id": "5b67a23a"
   },
   "outputs": [],
   "source": []
  },
  {
   "cell_type": "code",
   "execution_count": null,
   "id": "405be43b",
   "metadata": {
    "id": "405be43b"
   },
   "outputs": [],
   "source": []
  },
  {
   "cell_type": "code",
   "execution_count": null,
   "id": "e92b5c9b",
   "metadata": {
    "id": "e92b5c9b"
   },
   "outputs": [],
   "source": []
  },
  {
   "cell_type": "code",
   "execution_count": null,
   "id": "7daf5d09",
   "metadata": {
    "id": "7daf5d09"
   },
   "outputs": [],
   "source": []
  },
  {
   "cell_type": "markdown",
   "id": "04e38e82",
   "metadata": {
    "id": "04e38e82"
   },
   "source": [
    "## Q6\n",
    "*  Transform : (Garden , Garage) to numeric by mapping\n",
    "\n",
    "> note:(Yes = 1 / No = 0)"
   ]
  },
  {
   "cell_type": "code",
   "execution_count": null,
   "id": "77939acd",
   "metadata": {
    "id": "77939acd"
   },
   "outputs": [],
   "source": []
  },
  {
   "cell_type": "code",
   "execution_count": null,
   "id": "471435ea",
   "metadata": {
    "id": "471435ea"
   },
   "outputs": [],
   "source": []
  },
  {
   "cell_type": "code",
   "execution_count": null,
   "id": "878431e2",
   "metadata": {
    "id": "878431e2"
   },
   "outputs": [],
   "source": []
  },
  {
   "cell_type": "code",
   "execution_count": null,
   "id": "2c2cf03b",
   "metadata": {
    "id": "2c2cf03b"
   },
   "outputs": [],
   "source": []
  },
  {
   "cell_type": "code",
   "execution_count": null,
   "id": "00a72d7e",
   "metadata": {
    "id": "00a72d7e"
   },
   "outputs": [],
   "source": []
  },
  {
   "cell_type": "code",
   "execution_count": null,
   "id": "326cccee",
   "metadata": {
    "id": "326cccee"
   },
   "outputs": [],
   "source": []
  },
  {
   "cell_type": "code",
   "execution_count": null,
   "id": "e8853082",
   "metadata": {
    "id": "e8853082"
   },
   "outputs": [],
   "source": []
  },
  {
   "cell_type": "code",
   "execution_count": null,
   "id": "35e2bcbf",
   "metadata": {
    "id": "35e2bcbf"
   },
   "outputs": [],
   "source": []
  },
  {
   "cell_type": "markdown",
   "id": "612668b5",
   "metadata": {
    "id": "612668b5"
   },
   "source": [
    "## Q7\n",
    "* Generate pivot tables for indexing by the following categories: (Neighborhood, Property Type, Heating Type, Balcony, View, Materials, and Building Status). The values will represent the mean price for each category.\n",
    "\n",
    "* save each of them in a separate sheet within an Excel file\n"
   ]
  },
  {
   "cell_type": "code",
   "execution_count": null,
   "id": "bc4d0d66",
   "metadata": {
    "id": "bc4d0d66"
   },
   "outputs": [],
   "source": []
  },
  {
   "cell_type": "code",
   "execution_count": null,
   "id": "36238d9e",
   "metadata": {
    "id": "36238d9e"
   },
   "outputs": [],
   "source": []
  },
  {
   "cell_type": "code",
   "execution_count": null,
   "id": "38c0b8e5",
   "metadata": {
    "id": "38c0b8e5"
   },
   "outputs": [],
   "source": []
  },
  {
   "cell_type": "code",
   "execution_count": null,
   "id": "2257ac33",
   "metadata": {
    "id": "2257ac33"
   },
   "outputs": [],
   "source": []
  },
  {
   "cell_type": "code",
   "execution_count": null,
   "id": "d2c95450",
   "metadata": {
    "id": "d2c95450"
   },
   "outputs": [],
   "source": []
  },
  {
   "cell_type": "code",
   "execution_count": null,
   "id": "37b2e97a",
   "metadata": {
    "id": "37b2e97a"
   },
   "outputs": [],
   "source": []
  },
  {
   "cell_type": "code",
   "execution_count": null,
   "id": "00300ad6",
   "metadata": {
    "id": "00300ad6"
   },
   "outputs": [],
   "source": []
  },
  {
   "cell_type": "code",
   "execution_count": null,
   "id": "974a358f",
   "metadata": {
    "id": "974a358f"
   },
   "outputs": [],
   "source": []
  }
 ],
 "metadata": {
  "colab": {
   "provenance": []
  },
  "kernelspec": {
   "display_name": "Python 3",
   "language": "python",
   "name": "python3"
  },
  "language_info": {
   "codemirror_mode": {
    "name": "ipython",
    "version": 3
   },
   "file_extension": ".py",
   "mimetype": "text/x-python",
   "name": "python",
   "nbconvert_exporter": "python",
   "pygments_lexer": "ipython3",
   "version": "3.9.21"
  }
 },
 "nbformat": 4,
 "nbformat_minor": 5
}
