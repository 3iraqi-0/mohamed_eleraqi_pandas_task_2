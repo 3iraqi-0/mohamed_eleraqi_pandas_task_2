{
 "cells": [
  {
   "cell_type": "markdown",
   "id": "e847b4e6",
   "metadata": {},
   "source": [
    "# Dataset : https://www.kaggle.com/datasets/moro146/supermarket-eda"
   ]
  },
  {
   "cell_type": "markdown",
   "id": "47926e6d",
   "metadata": {},
   "source": [
    "# Q1 \n",
    "* ## Load the Data\n",
    "* ## Display the First 5 Entries\n",
    "* ## Display the Last 5 Entries\n",
    "* ## View Dataset Information\n",
    "* ## Generate Descriptive Statistics (Numeric and Categorical Data)"
   ]
  },
  {
   "cell_type": "code",
   "execution_count": null,
   "id": "bda7120b",
   "metadata": {},
   "outputs": [],
   "source": []
  },
  {
   "cell_type": "code",
   "execution_count": null,
   "id": "c856331c",
   "metadata": {},
   "outputs": [],
   "source": []
  },
  {
   "cell_type": "code",
   "execution_count": null,
   "id": "42c8dc67",
   "metadata": {},
   "outputs": [],
   "source": []
  },
  {
   "cell_type": "code",
   "execution_count": null,
   "id": "7395b111",
   "metadata": {},
   "outputs": [],
   "source": []
  },
  {
   "cell_type": "markdown",
   "id": "4e37a20b",
   "metadata": {},
   "source": [
    "# Q2\n",
    "* ## Identify and Resolve Duplicate Entries\n",
    "* ## Detect and Handle Missing Values"
   ]
  },
  {
   "cell_type": "code",
   "execution_count": null,
   "id": "406d9b10",
   "metadata": {},
   "outputs": [],
   "source": []
  },
  {
   "cell_type": "code",
   "execution_count": null,
   "id": "e54ef629",
   "metadata": {},
   "outputs": [],
   "source": []
  },
  {
   "cell_type": "markdown",
   "id": "c9c3abf9",
   "metadata": {},
   "source": [
    "# Q3\n",
    "* ## Make (Row ID as an index)"
   ]
  },
  {
   "cell_type": "code",
   "execution_count": null,
   "id": "974d3c1a",
   "metadata": {},
   "outputs": [],
   "source": []
  },
  {
   "cell_type": "code",
   "execution_count": null,
   "id": "4b2ad868",
   "metadata": {},
   "outputs": [],
   "source": []
  },
  {
   "cell_type": "code",
   "execution_count": null,
   "id": "d38df57b",
   "metadata": {},
   "outputs": [],
   "source": []
  },
  {
   "cell_type": "code",
   "execution_count": null,
   "id": "3d9451f5",
   "metadata": {},
   "outputs": [],
   "source": []
  },
  {
   "cell_type": "code",
   "execution_count": null,
   "id": "b36145a0",
   "metadata": {},
   "outputs": [],
   "source": []
  },
  {
   "cell_type": "markdown",
   "id": "9cf5abff",
   "metadata": {},
   "source": [
    "# Q4\n",
    "* ## Using aggregate function to calculate (Max, Min, Mean) of sales column "
   ]
  },
  {
   "cell_type": "code",
   "execution_count": null,
   "id": "e5a7f2f1",
   "metadata": {},
   "outputs": [],
   "source": []
  },
  {
   "cell_type": "code",
   "execution_count": null,
   "id": "d461f741",
   "metadata": {},
   "outputs": [],
   "source": []
  },
  {
   "cell_type": "code",
   "execution_count": null,
   "id": "20c291a1",
   "metadata": {},
   "outputs": [],
   "source": []
  },
  {
   "cell_type": "markdown",
   "id": "d82055bc",
   "metadata": {},
   "source": [
    "# Q5\n",
    "* ## What is the most Category and sub-category saled ?\n",
    "* ## And Make a Pivot table to Calculate the mean for each Category "
   ]
  },
  {
   "cell_type": "code",
   "execution_count": null,
   "id": "4de6b1a6",
   "metadata": {},
   "outputs": [],
   "source": []
  },
  {
   "cell_type": "code",
   "execution_count": null,
   "id": "1e922c5c",
   "metadata": {},
   "outputs": [],
   "source": []
  },
  {
   "cell_type": "code",
   "execution_count": null,
   "id": "507da022",
   "metadata": {},
   "outputs": [],
   "source": []
  },
  {
   "cell_type": "code",
   "execution_count": null,
   "id": "fc4a707d",
   "metadata": {},
   "outputs": [],
   "source": []
  },
  {
   "cell_type": "code",
   "execution_count": null,
   "id": "fb3fc673",
   "metadata": {},
   "outputs": [],
   "source": []
  },
  {
   "cell_type": "markdown",
   "id": "1b15a40d",
   "metadata": {},
   "source": [
    "# Q6 \n",
    "* ## Replace full country names with their abbreviations (e.g., \"United States\" becomes \"US\") and rename the column to \"The Country."
   ]
  },
  {
   "cell_type": "code",
   "execution_count": null,
   "id": "3f37814a",
   "metadata": {},
   "outputs": [],
   "source": []
  },
  {
   "cell_type": "code",
   "execution_count": null,
   "id": "005bbbcf",
   "metadata": {},
   "outputs": [],
   "source": []
  },
  {
   "cell_type": "code",
   "execution_count": null,
   "id": "1190a85f",
   "metadata": {},
   "outputs": [],
   "source": []
  },
  {
   "cell_type": "markdown",
   "id": "02faedbb",
   "metadata": {},
   "source": [
    "# Q7\n",
    "* ## Calculate the number of shipping days between the \"Order Date\" and \"Ship Date\" columns\n",
    "* ## And calculate the maximum shipping days and the city of it "
   ]
  },
  {
   "cell_type": "code",
   "execution_count": null,
   "id": "4cc16232",
   "metadata": {},
   "outputs": [],
   "source": []
  },
  {
   "cell_type": "code",
   "execution_count": null,
   "id": "fda5bd6f",
   "metadata": {},
   "outputs": [],
   "source": []
  },
  {
   "cell_type": "code",
   "execution_count": null,
   "id": "3eba9d6c",
   "metadata": {},
   "outputs": [],
   "source": []
  }
 ],
 "metadata": {
  "kernelspec": {
   "display_name": "Python 3 (ipykernel)",
   "language": "python",
   "name": "python3"
  },
  "language_info": {
   "codemirror_mode": {
    "name": "ipython",
    "version": 3
   },
   "file_extension": ".py",
   "mimetype": "text/x-python",
   "name": "python",
   "nbconvert_exporter": "python",
   "pygments_lexer": "ipython3",
   "version": "3.11.5"
  }
 },
 "nbformat": 4,
 "nbformat_minor": 5
}
